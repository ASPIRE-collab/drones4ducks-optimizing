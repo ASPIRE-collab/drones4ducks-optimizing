{
 "cells": [
  {
   "cell_type": "code",
   "execution_count": null,
   "metadata": {},
   "outputs": [],
   "source": [
    "import os\n",
    "import shutil\n",
    "\n",
    "def search_and_move_annotations(root_dir, target_class):\n",
    "    removed_dir = 'removed'  # Directory to store text files with the target class only\n",
    "    maybe_dir = 'maybe'  # Directory to store text files with the target class and other annotations\n",
    "\n",
    "    os.makedirs(removed_dir, exist_ok=True)\n",
    "    os.makedirs(maybe_dir, exist_ok=True)\n",
    "\n",
    "    total_removed_count = 0\n",
    "    total_maybe_count = 0\n",
    "\n",
    "    for dirpath, dirnames, filenames in os.walk(root_dir):\n",
    "        for filename in filenames:\n",
    "            if filename.endswith('.txt'):\n",
    "                file_path = os.path.join(dirpath, filename)\n",
    "\n",
    "                with open(file_path, 'r') as f:\n",
    "                    lines = f.readlines()\n",
    "\n",
    "                has_target_class = False\n",
    "                has_other_class = False\n",
    "\n",
    "                for line in lines:\n",
    "                    class_id = line.split()[0]\n",
    "                    if class_id == str(target_class):\n",
    "                        has_target_class = True\n",
    "                    else:\n",
    "                        has_other_class = True\n",
    "\n",
    "                if has_target_class:\n",
    "                    if has_other_class:\n",
    "                        shutil.copy(file_path, maybe_dir)\n",
    "                        total_maybe_count += 1\n",
    "                    else:\n",
    "                        shutil.copy(file_path, removed_dir)\n",
    "                        total_removed_count += 1\n",
    "\n",
    "    print(f\"Total removed files: {total_removed_count}\")\n",
    "    print(f\"Total maybe files: {total_maybe_count}\")\n",
    "\n",
    "# Example usage\n",
    "root_directory = 'E:/datasets/zooniverse/labels/'  # Root directory where the train, val, test folders are located\n",
    "target_class = 3  # The class to search for in the annotations\n",
    "\n",
    "search_and_move_annotations(root_directory, target_class)"
   ]
  }
 ],
 "metadata": {
  "language_info": {
   "name": "python"
  },
  "orig_nbformat": 4
 },
 "nbformat": 4,
 "nbformat_minor": 2
}
