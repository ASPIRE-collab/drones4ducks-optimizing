{
 "cells": [
  {
   "cell_type": "code",
   "execution_count": 3,
   "metadata": {},
   "outputs": [
    {
     "ename": "SameFileError",
     "evalue": "'C:/Users/rowanconverse/Desktop/data/zooniverse/maybe\\\\20211212_Alameda_0367_04_02.txt' and 'C:/Users/rowanconverse/Desktop/data/zooniverse/maybe/20211212_Alameda_0367_04_02.txt' are the same file",
     "output_type": "error",
     "traceback": [
      "\u001b[1;31m---------------------------------------------------------------------------\u001b[0m",
      "\u001b[1;31mSameFileError\u001b[0m                             Traceback (most recent call last)",
      "Cell \u001b[1;32mIn[3], line 48\u001b[0m\n\u001b[0;32m     45\u001b[0m root_directory \u001b[39m=\u001b[39m \u001b[39m'\u001b[39m\u001b[39mC:/Users/rowanconverse/Desktop/data/zooniverse/\u001b[39m\u001b[39m'\u001b[39m  \u001b[39m# Root directory where the train, val, test folders are located\u001b[39;00m\n\u001b[0;32m     46\u001b[0m target_class \u001b[39m=\u001b[39m \u001b[39m3\u001b[39m  \u001b[39m# The class to search for in the annotations\u001b[39;00m\n\u001b[1;32m---> 48\u001b[0m search_and_move_annotations(root_directory, target_class)\n",
      "Cell \u001b[1;32mIn[3], line 34\u001b[0m, in \u001b[0;36msearch_and_move_annotations\u001b[1;34m(root_dir, target_class)\u001b[0m\n\u001b[0;32m     32\u001b[0m \u001b[39mif\u001b[39;00m has_target_class:\n\u001b[0;32m     33\u001b[0m     \u001b[39mif\u001b[39;00m has_other_class:\n\u001b[1;32m---> 34\u001b[0m         shutil\u001b[39m.\u001b[39;49mcopy(file_path, maybe_dir)\n\u001b[0;32m     35\u001b[0m         total_maybe_count \u001b[39m+\u001b[39m\u001b[39m=\u001b[39m \u001b[39m1\u001b[39m\n\u001b[0;32m     36\u001b[0m     \u001b[39melse\u001b[39;00m:\n",
      "File \u001b[1;32mc:\\Users\\rowanconverse\\AppData\\Local\\anaconda3\\envs\\myenv\\Lib\\shutil.py:419\u001b[0m, in \u001b[0;36mcopy\u001b[1;34m(src, dst, follow_symlinks)\u001b[0m\n\u001b[0;32m    417\u001b[0m \u001b[39mif\u001b[39;00m os\u001b[39m.\u001b[39mpath\u001b[39m.\u001b[39misdir(dst):\n\u001b[0;32m    418\u001b[0m     dst \u001b[39m=\u001b[39m os\u001b[39m.\u001b[39mpath\u001b[39m.\u001b[39mjoin(dst, os\u001b[39m.\u001b[39mpath\u001b[39m.\u001b[39mbasename(src))\n\u001b[1;32m--> 419\u001b[0m copyfile(src, dst, follow_symlinks\u001b[39m=\u001b[39;49mfollow_symlinks)\n\u001b[0;32m    420\u001b[0m copymode(src, dst, follow_symlinks\u001b[39m=\u001b[39mfollow_symlinks)\n\u001b[0;32m    421\u001b[0m \u001b[39mreturn\u001b[39;00m dst\n",
      "File \u001b[1;32mc:\\Users\\rowanconverse\\AppData\\Local\\anaconda3\\envs\\myenv\\Lib\\shutil.py:236\u001b[0m, in \u001b[0;36mcopyfile\u001b[1;34m(src, dst, follow_symlinks)\u001b[0m\n\u001b[0;32m    233\u001b[0m sys\u001b[39m.\u001b[39maudit(\u001b[39m\"\u001b[39m\u001b[39mshutil.copyfile\u001b[39m\u001b[39m\"\u001b[39m, src, dst)\n\u001b[0;32m    235\u001b[0m \u001b[39mif\u001b[39;00m _samefile(src, dst):\n\u001b[1;32m--> 236\u001b[0m     \u001b[39mraise\u001b[39;00m SameFileError(\u001b[39m\"\u001b[39m\u001b[39m{!r}\u001b[39;00m\u001b[39m and \u001b[39m\u001b[39m{!r}\u001b[39;00m\u001b[39m are the same file\u001b[39m\u001b[39m\"\u001b[39m\u001b[39m.\u001b[39mformat(src, dst))\n\u001b[0;32m    238\u001b[0m file_size \u001b[39m=\u001b[39m \u001b[39m0\u001b[39m\n\u001b[0;32m    239\u001b[0m \u001b[39mfor\u001b[39;00m i, fn \u001b[39min\u001b[39;00m \u001b[39menumerate\u001b[39m([src, dst]):\n",
      "\u001b[1;31mSameFileError\u001b[0m: 'C:/Users/rowanconverse/Desktop/data/zooniverse/maybe\\\\20211212_Alameda_0367_04_02.txt' and 'C:/Users/rowanconverse/Desktop/data/zooniverse/maybe/20211212_Alameda_0367_04_02.txt' are the same file"
     ]
    }
   ],
   "source": [
    "import os\n",
    "import shutil\n",
    "\n",
    "def search_and_move_annotations(root_dir, target_class):\n",
    "    removed_dir = 'C:/Users/rowanconverse/Desktop/data/zooniverse/removed/'  # Directory to store text files with the target class only\n",
    "    maybe_dir = 'C:/Users/rowanconverse/Desktop/data/zooniverse/maybe/' # Directory to store text files with the target class and other annotations\n",
    "\n",
    "    os.makedirs(removed_dir, exist_ok=True)\n",
    "    os.makedirs(maybe_dir, exist_ok=True)\n",
    "\n",
    "    total_removed_count = 0\n",
    "    total_maybe_count = 0\n",
    "\n",
    "    for dirpath, dirnames, filenames in os.walk(root_dir):\n",
    "        for filename in filenames:\n",
    "            if filename.endswith('.txt'):\n",
    "                file_path = os.path.join(dirpath, filename)\n",
    "\n",
    "                with open(file_path, 'r') as f:\n",
    "                    lines = f.readlines()\n",
    "\n",
    "                has_target_class = False\n",
    "                has_other_class = False\n",
    "\n",
    "                for line in lines:\n",
    "                    class_id = line.split()[0]\n",
    "                    if class_id == str(target_class):\n",
    "                        has_target_class = True\n",
    "                    else:\n",
    "                        has_other_class = True\n",
    "\n",
    "                if has_target_class:\n",
    "                    if has_other_class:\n",
    "                        shutil.copy(file_path, maybe_dir)\n",
    "                        total_maybe_count += 1\n",
    "                    else:\n",
    "                        shutil.copy(file_path, removed_dir)\n",
    "                        total_removed_count += 1\n",
    "                    os.remove(file_path)\n",
    "\n",
    "    print(f\"Total removed files: {total_removed_count}\")\n",
    "    print(f\"Total maybe files: {total_maybe_count}\")\n",
    "\n",
    "# Example usage\n",
    "root_directory = 'C:/Users/rowanconverse/Desktop/data/zooniverse/'  # Root directory where the train, val, test folders are located\n",
    "target_class = 3  # The class to search for in the annotations\n",
    "\n",
    "search_and_move_annotations(root_directory, target_class)"
   ]
  }
 ],
 "metadata": {
  "kernelspec": {
   "display_name": "myenv",
   "language": "python",
   "name": "python3"
  },
  "language_info": {
   "codemirror_mode": {
    "name": "ipython",
    "version": 3
   },
   "file_extension": ".py",
   "mimetype": "text/x-python",
   "name": "python",
   "nbconvert_exporter": "python",
   "pygments_lexer": "ipython3",
   "version": "3.11.3"
  },
  "orig_nbformat": 4
 },
 "nbformat": 4,
 "nbformat_minor": 2
}
