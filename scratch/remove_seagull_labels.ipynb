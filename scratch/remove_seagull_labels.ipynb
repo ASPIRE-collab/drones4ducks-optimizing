{
 "cells": [
  {
   "cell_type": "code",
   "execution_count": null,
   "metadata": {},
   "outputs": [],
   "source": [
    "import os\n",
    "import shutil\n",
    "\n",
    "def search_and_move_annotations(root_dir, target_class):\n",
    "    removed_dir = 'E:/datasets/zooniverse/labels/val/seagull/'  # Directory to store text files with the target class only\n",
    "    maybe_dir = 'E:/datasets/zooniverse/labels/val/seagull_andothers/' # Directory to store text files with the target class and other annotations\n",
    "\n",
    "    os.makedirs(removed_dir, exist_ok=True)\n",
    "    os.makedirs(maybe_dir, exist_ok=True)\n",
    "\n",
    "    total_removed_count = 0\n",
    "    total_maybe_count = 0\n",
    "\n",
    "    for dirpath, dirnames, filenames in os.walk(root_dir):\n",
    "        for filename in filenames:\n",
    "            if filename.endswith('.txt'):\n",
    "                file_path = os.path.join(dirpath, filename)\n",
    "\n",
    "                with open(file_path, 'r') as f:\n",
    "                    lines = f.readlines()\n",
    "\n",
    "                has_target_class = False\n",
    "                has_other_class = False\n",
    "\n",
    "                for line in lines:\n",
    "                    class_id = line.split()[0]\n",
    "                    if class_id == str(target_class):\n",
    "                        has_target_class = True\n",
    "                    else:\n",
    "                        has_other_class = True\n",
    "\n",
    "                if has_target_class:\n",
    "                    if has_other_class:\n",
    "                        shutil.copy(file_path, maybe_dir)\n",
    "                        total_maybe_count += 1\n",
    "                    else:\n",
    "                        shutil.copy(file_path, removed_dir)\n",
    "                        total_removed_count += 1\n",
    "                    os.remove(file_path)\n",
    "\n",
    "    print(f\"Total removed files: {total_removed_count}\")\n",
    "    print(f\"Total maybe files: {total_maybe_count}\")\n",
    "\n",
    "#Verify class splits\n",
    "def analyze_class_distribution(data_dir):\n",
    "    # Collect the list of annotation files\n",
    "    annotation_files = [f for f in os.listdir(data_dir) if f.endswith('.txt')]\n",
    "\n",
    "    # Count the annotations per class\n",
    "    class_counts = {}\n",
    "    for annotation_file in annotation_files:\n",
    "        with open(os.path.join(data_dir, annotation_file), 'r') as f:\n",
    "            lines = f.readlines()\n",
    "            for line in lines:\n",
    "                class_id = line.split()[0]\n",
    "                if class_id not in class_counts:\n",
    "                    class_counts[class_id] = 0\n",
    "                class_counts[class_id] += 1\n",
    "\n",
    "    # Print the class distribution\n",
    "    print(\"Class Distribution:\")\n",
    "    for class_id, count in class_counts.items():\n",
    "        print(f\"Class {class_id}: {count} annotations\")\n"
   ]
  },
  {
   "cell_type": "code",
   "execution_count": null,
   "metadata": {},
   "outputs": [],
   "source": [
    "#Implementation\n",
    "root_directory = 'E:/datasets/zooniverse/labels/val/'  # Root directory where the train, val, test folders are located\n",
    "target_class = 3  # The class to search for in the annotations\n",
    "\n",
    "search_and_move_annotations(root_directory, target_class)"
   ]
  },
  {
   "cell_type": "code",
   "execution_count": null,
   "metadata": {},
   "outputs": [],
   "source": [
    "analyze_class_distribution(root_directory)"
   ]
  },
  {
   "cell_type": "code",
   "execution_count": null,
   "metadata": {},
   "outputs": [],
   "source": [
    "removed_dir = 'E:/datasets/zooniverse/labels/val/seagull/'  # Directory to store text files with the target class only\n",
    "maybe_dir = 'E:/datasets/zooniverse/labels/val/seagull_andothers/'\n",
    "\n",
    "analyze_class_distribution(removed_dir)\n",
    "analyze_class_distribution(maybe_dir)"
   ]
  }
 ],
 "metadata": {
  "kernelspec": {
   "display_name": "myenv",
   "language": "python",
   "name": "python3"
  },
  "language_info": {
   "codemirror_mode": {
    "name": "ipython",
    "version": 3
   },
   "file_extension": ".py",
   "mimetype": "text/x-python",
   "name": "python",
   "nbconvert_exporter": "python",
   "pygments_lexer": "ipython3",
   "version": "3.11.3"
  },
  "orig_nbformat": 4
 },
 "nbformat": 4,
 "nbformat_minor": 2
}
