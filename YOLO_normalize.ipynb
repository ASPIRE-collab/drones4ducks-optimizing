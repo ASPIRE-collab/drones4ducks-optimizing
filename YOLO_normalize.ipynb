{
 "cells": [
  {
   "cell_type": "code",
   "execution_count": 2,
   "metadata": {},
   "outputs": [],
   "source": [
    "import os\n",
    "\n",
    "# Path to the directory containing the labels\n",
    "labels_directory = 'E:\\datasets'\n",
    "\n",
    "# Iterate over the labels subdirectories\n",
    "for root, dirs, files in os.walk(labels_directory):\n",
    "    for file in files:\n",
    "        if file.endswith('.txt'):\n",
    "            file_path = os.path.join(root, file)\n",
    "            with open(file_path, 'r') as f:\n",
    "                lines = f.readlines()\n",
    "\n",
    "            # Modify the YOLO bounding box coordinates in each line\n",
    "            modified_lines = []\n",
    "            for line in lines:\n",
    "                values = line.strip().split(' ')\n",
    "                class_label = values[0]\n",
    "                modified_values = [class_label]\n",
    "\n",
    "                for i in range(1, len(values)):\n",
    "                    value = float(values[i])\n",
    "                    if i % 2 == 1:  # X-coordinate\n",
    "                        if value < 0:\n",
    "                            value = 0\n",
    "                        elif value > 1:\n",
    "                            value = 1\n",
    "                    modified_values.append(str(value))\n",
    "\n",
    "                modified_line = ' '.join(modified_values) + '\\n'\n",
    "                modified_lines.append(modified_line)\n",
    "\n",
    "            # Write the modified lines back to the file\n",
    "            with open(file_path, 'w') as f:\n",
    "                f.writelines(modified_lines)\n"
   ]
  }
 ],
 "metadata": {
  "kernelspec": {
   "display_name": "yolo",
   "language": "python",
   "name": "python3"
  },
  "language_info": {
   "codemirror_mode": {
    "name": "ipython",
    "version": 3
   },
   "file_extension": ".py",
   "mimetype": "text/x-python",
   "name": "python",
   "nbconvert_exporter": "python",
   "pygments_lexer": "ipython3",
   "version": "3.11.3"
  },
  "orig_nbformat": 4
 },
 "nbformat": 4,
 "nbformat_minor": 2
}
