{
 "cells": [
  {
   "cell_type": "markdown",
   "metadata": {},
   "source": [
    "Subsample Crowdsourced annotations based on percentages of either the total number of labels in the training pool, or number of original images (not tiles) in the training pool"
   ]
  },
  {
   "cell_type": "code",
   "execution_count": 1,
   "metadata": {},
   "outputs": [],
   "source": [
    "#Import necessary modules\n",
    "import os\n",
    "import random\n",
    "from shutil import copyfile"
   ]
  },
  {
   "cell_type": "code",
   "execution_count": 13,
   "metadata": {},
   "outputs": [],
   "source": [
    "#Subsample annotations using a target class ratio\n",
    "def subsample_annotations(input_dir, output_dir, subsample_ratio):\n",
    "    # Create the output directory if it doesn't exist\n",
    "    os.makedirs(output_dir, exist_ok=True)\n",
    "\n",
    "    # Collect the list of annotation files\n",
    "    annotation_files = [f for f in os.listdir(input_dir) if f.endswith('.txt')]\n",
    "\n",
    "    # Collect the annotations per class\n",
    "    class_annotations = {}\n",
    "    for annotation_file in annotation_files:\n",
    "        with open(os.path.join(input_dir, annotation_file), 'r') as f:\n",
    "            lines = f.readlines()\n",
    "            for line in lines:\n",
    "                class_id = line.split()[0]\n",
    "                if class_id not in class_annotations:\n",
    "                    class_annotations[class_id] = []\n",
    "                class_annotations[class_id].append(annotation_file)\n",
    "\n",
    "    # Calculate the number of annotations to subsample per class\n",
    "    subsampled_annotations = {}\n",
    "    for class_id, annotations in class_annotations.items():\n",
    "        num_annotations = len(annotations)\n",
    "        num_subsampled_annotations = int(num_annotations * subsample_ratio)\n",
    "        subsampled_annotations[class_id] = random.sample(annotations, num_subsampled_annotations)\n",
    "\n",
    "    # Copy the subsampled annotations to the output directory\n",
    "    for class_id, annotations in subsampled_annotations.items():\n",
    "        for annotation_file in annotations:\n",
    "            input_path = os.path.join(input_dir, annotation_file)\n",
    "            output_path = os.path.join(output_dir, annotation_file)\n",
    "            copyfile(input_path, output_path)\n",
    "\n",
    "#Verify class split in subsampled data\n",
    "def analyze_class_distribution(data_dir):\n",
    "    # Collect the list of annotation files\n",
    "    annotation_files = [f for f in os.listdir(data_dir) if f.endswith('.txt')]\n",
    "\n",
    "    # Count the annotations per class\n",
    "    class_counts = {}\n",
    "    for annotation_file in annotation_files:\n",
    "        with open(os.path.join(data_dir, annotation_file), 'r') as f:\n",
    "            lines = f.readlines()\n",
    "            for line in lines:\n",
    "                class_id = line.split()[0]\n",
    "                if class_id not in class_counts:\n",
    "                    class_counts[class_id] = 0\n",
    "                class_counts[class_id] += 1\n",
    "\n",
    "    # Print the class distribution\n",
    "    print(\"Class Distribution:\")\n",
    "    for class_id, count in class_counts.items():\n",
    "        print(f\"Class {class_id}: {count} annotations\")"
   ]
  },
  {
   "cell_type": "code",
   "execution_count": 19,
   "metadata": {},
   "outputs": [
    {
     "name": "stdout",
     "output_type": "stream",
     "text": [
      "Class Distribution:\n",
      "Class 2: 527 annotations\n",
      "Class 1: 3859 annotations\n",
      "Class 0: 1541 annotations\n"
     ]
    }
   ],
   "source": [
    "# Implementation of subsample by % of annotations in the original dataset\n",
    "input_directory = \"E:/datasets/zooniverse/labels/train/\"  # Directory containing original annotations\n",
    "output_directory = 'E:/datasets/zooniverse/test_001/'  # Directory to store subsampled annotations\n",
    "subsample_ratio = 0.01  # Subsampling ratio, e.g., 0.5 for 50% of the original data\n",
    "\n",
    "#subsample_annotations(input_directory, output_directory, subsample_ratio)\n",
    "subsample_annotations(input_directory, output_directory,subsample_ratio)\n",
    "analyze_class_distribution(output_directory)"
   ]
  },
  {
   "cell_type": "code",
   "execution_count": 13,
   "metadata": {},
   "outputs": [],
   "source": [
    "#Subsample based on # original images\n",
    "\n",
    "import os\n",
    "import random\n",
    "import shutil\n",
    "from collections import defaultdict\n",
    "\n",
    "def derive_original_image_names(txt_filenames):\n",
    "    return list(set([filename.rsplit('_', 2)[0] for filename in txt_filenames]))\n",
    "\n",
    "def subsample_image_names(image_names, ratio):\n",
    "    num_images = len(image_names)\n",
    "    num_subsampled = max(1, int(num_images * ratio))\n",
    "    return random.sample(image_names, num_subsampled)\n",
    "\n",
    "def copy_subsampled_annotations(source_dir, target_dir, subsampled_image_names):\n",
    "    os.makedirs(target_dir, exist_ok=True)\n",
    "    class_distribution = defaultdict(int)\n",
    "\n",
    "    for txt_file in os.listdir(source_dir):\n",
    "        filename, file_extension = os.path.splitext(txt_file)\n",
    "        image_name = filename.rsplit('_', 2)[0]\n",
    "        if image_name in subsampled_image_names:\n",
    "            with open(os.path.join(source_dir, txt_file), 'r') as f:\n",
    "                lines = f.readlines()\n",
    "                for line in lines:\n",
    "                    class_id = int(line.split()[0])\n",
    "                    class_distribution[class_id] += 1\n",
    "            shutil.copy(os.path.join(source_dir, txt_file), target_dir)\n",
    "\n",
    "    return class_distribution"
   ]
  },
  {
   "cell_type": "code",
   "execution_count": 19,
   "metadata": {},
   "outputs": [
    {
     "name": "stdout",
     "output_type": "stream",
     "text": [
      "Subsampled class distribution:\n",
      "Class 2: 46 instances\n",
      "Class 1: 530 instances\n",
      "Class 0: 502 instances\n"
     ]
    }
   ],
   "source": [
    "if __name__ == \"__main__\":\n",
    "    source_directory = \"E:/datasets/zooniverse/labels/train/\"\n",
    "    target_directory = \"E:/datasets/zooniverse_img_001/labels/train/\"\n",
    "    subsample_ratio = 0.01\n",
    "\n",
    "    txt_files = [file for file in os.listdir(source_directory) if file.endswith('.txt')]\n",
    "    original_image_names = derive_original_image_names(txt_files)\n",
    "    subsampled_image_names = subsample_image_names(original_image_names, subsample_ratio)\n",
    "\n",
    "    class_distribution = copy_subsampled_annotations(source_directory, target_directory, subsampled_image_names)\n",
    "\n",
    "    print(\"Subsampled class distribution:\")\n",
    "    for class_id, count in class_distribution.items():\n",
    "        print(f\"Class {class_id}: {count} instances\")\n",
    "\n"
   ]
  }
 ],
 "metadata": {
  "kernelspec": {
   "display_name": "yolo",
   "language": "python",
   "name": "python3"
  },
  "language_info": {
   "codemirror_mode": {
    "name": "ipython",
    "version": 3
   },
   "file_extension": ".py",
   "mimetype": "text/x-python",
   "name": "python",
   "nbconvert_exporter": "python",
   "pygments_lexer": "ipython3",
   "version": "3.11.3"
  },
  "orig_nbformat": 4
 },
 "nbformat": 4,
 "nbformat_minor": 2
}
