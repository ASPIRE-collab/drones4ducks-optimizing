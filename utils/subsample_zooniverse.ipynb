{
 "cells": [
  {
   "cell_type": "code",
   "execution_count": null,
   "metadata": {},
   "outputs": [],
   "source": [
    "import os\n",
    "import random\n",
    "from shutil import copyfile"
   ]
  },
  {
   "cell_type": "code",
   "execution_count": 1,
   "metadata": {},
   "outputs": [],
   "source": [
    "#Subsample annotations using a target class ratio\n",
    "def subsample_annotations(input_dir, output_dir, subsample_ratio):\n",
    "    # Create the output directory if it doesn't exist\n",
    "    os.makedirs(output_dir, exist_ok=True)\n",
    "\n",
    "    # Collect the list of annotation files\n",
    "    annotation_files = [f for f in os.listdir(input_dir) if f.endswith('.txt')]\n",
    "\n",
    "    # Collect the annotations per class\n",
    "    class_annotations = {}\n",
    "    for annotation_file in annotation_files:\n",
    "        with open(os.path.join(input_dir, annotation_file), 'r') as f:\n",
    "            lines = f.readlines()\n",
    "            for line in lines:\n",
    "                class_id = line.split()[0]\n",
    "                if class_id not in class_annotations:\n",
    "                    class_annotations[class_id] = []\n",
    "                class_annotations[class_id].append(annotation_file)\n",
    "\n",
    "    # Calculate the number of annotations to subsample per class\n",
    "    subsampled_annotations = {}\n",
    "    for class_id, annotations in class_annotations.items():\n",
    "        num_annotations = len(annotations)\n",
    "        num_subsampled_annotations = int(num_annotations * subsample_ratio)\n",
    "        subsampled_annotations[class_id] = random.sample(annotations, num_subsampled_annotations)\n",
    "\n",
    "    # Copy the subsampled annotations to the output directory\n",
    "    for class_id, annotations in subsampled_annotations.items():\n",
    "        for annotation_file in annotations:\n",
    "            input_path = os.path.join(input_dir, annotation_file)\n",
    "            output_path = os.path.join(output_dir, annotation_file)\n",
    "            copyfile(input_path, output_path)\n",
    "\n",
    "#Verify class split in subsampled data\n",
    "def analyze_class_distribution(data_dir):\n",
    "    # Collect the list of annotation files\n",
    "    annotation_files = [f for f in os.listdir(data_dir) if f.endswith('.txt')]\n",
    "\n",
    "    # Count the annotations per class\n",
    "    class_counts = {}\n",
    "    for annotation_file in annotation_files:\n",
    "        with open(os.path.join(data_dir, annotation_file), 'r') as f:\n",
    "            lines = f.readlines()\n",
    "            for line in lines:\n",
    "                class_id = line.split()[0]\n",
    "                if class_id not in class_counts:\n",
    "                    class_counts[class_id] = 0\n",
    "                class_counts[class_id] += 1\n",
    "\n",
    "    # Print the class distribution\n",
    "    print(\"Class Distribution:\")\n",
    "    for class_id, count in class_counts.items():\n",
    "        print(f\"Class {class_id}: {count} annotations\")"
   ]
  },
  {
   "cell_type": "code",
   "execution_count": 7,
   "metadata": {},
   "outputs": [],
   "source": [
    "# Example usage\n",
    "input_directory = \"E:/datasets/zooniverse/labels/train\"  # Directory containing original annotations\n",
    "output_directory = 'E:/datasets/zooniverse/subsample_025/'  # Directory to store subsampled annotations\n",
    "subsample_ratio = 0.75  # Subsampling ratio, e.g., 0.5 for 50% of the original data\n",
    "\n",
    "subsample_annotations(input_directory, output_directory, subsample_ratio)\n",
    "analyze_class_distribution(output_directory)"
   ]
  }
 ],
 "metadata": {
  "kernelspec": {
   "display_name": "yolo",
   "language": "python",
   "name": "python3"
  },
  "language_info": {
   "codemirror_mode": {
    "name": "ipython",
    "version": 3
   },
   "file_extension": ".py",
   "mimetype": "text/x-python",
   "name": "python",
   "nbconvert_exporter": "python",
   "pygments_lexer": "ipython3",
   "version": "3.11.3"
  },
  "orig_nbformat": 4
 },
 "nbformat": 4,
 "nbformat_minor": 2
}
