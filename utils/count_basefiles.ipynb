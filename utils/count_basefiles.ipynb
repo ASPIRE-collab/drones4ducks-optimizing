{
 "cells": [
  {
   "cell_type": "code",
   "execution_count": 5,
   "metadata": {},
   "outputs": [
    {
     "name": "stdout",
     "output_type": "stream",
     "text": [
      "Number of unique modified image names: 33\n"
     ]
    }
   ],
   "source": [
    "import os\n",
    "\n",
    "def get_image_filenames(directory):\n",
    "    image_filenames = []\n",
    "    for filename in os.listdir(directory):\n",
    "        if filename.lower().endswith(('.jpg', '.png', '.txt')):\n",
    "            image_filenames.append(filename)\n",
    "    return image_filenames\n",
    "\n",
    "def modify_image_names(image_filenames):\n",
    "    modified_names = []\n",
    "    for filename in image_filenames:\n",
    "        modified_name = filename[:-10]  # Remove '.JPG' suffix and the last six characters that indicate tile column/row\n",
    "        modified_names.append(modified_name)\n",
    "    return modified_names\n",
    "\n",
    "def count_unique_image_names(modified_names):\n",
    "    unique_names = set(modified_names)\n",
    "    return len(unique_names)\n",
    "\n",
    "if __name__ == \"__main__\":\n",
    "    \n",
    "    directory_path = 'E:/datasets/zooniverse_img_005/labels/train/'\n",
    "\n",
    "    image_filenames = get_image_filenames(directory_path)\n",
    "    modified_names = modify_image_names(image_filenames)\n",
    "    unique_count = count_unique_image_names(modified_names)\n",
    "\n",
    "    #print(\"Modified image names:\")\n",
    "    #for name in modified_names:\n",
    "    #    print(name)\n",
    "\n",
    "    print(\"Number of unique modified image names:\", unique_count)\n"
   ]
  },
  {
   "cell_type": "code",
   "execution_count": 6,
   "metadata": {},
   "outputs": [
    {
     "data": {
      "text/plain": [
       "{'20211212_Alameda_0374',\n",
       " '20220110_Bernardo_0012',\n",
       " '20220110_Bernardo_0018',\n",
       " '20220110_Bernardo_0186',\n",
       " '20220110_Bernardo_0200',\n",
       " '20220110_Bernardo_0204',\n",
       " '20220110_Bernardo_0205',\n",
       " '20220110_Bernardo_0213',\n",
       " '20220110_Bernardo_0216',\n",
       " '20220110_Bernardo_0253',\n",
       " '20220110_Bernardo_0273',\n",
       " '20220110_Bernardo_0913',\n",
       " '20220111_Bernardo_0487',\n",
       " '20220111_Bernardo_0562',\n",
       " '20220111_LaJoya_1_0893',\n",
       " '20220111_LaJoya_1_0944',\n",
       " '20220129_RGNC_0536',\n",
       " '20220129_RGNC_0696',\n",
       " '20220129_RGNC_0703',\n",
       " '20220129_RGNC_0711',\n",
       " '20220129_RGNC_0713',\n",
       " '20220129_RGNC_0805',\n",
       " 'BDA_12c_20181113_1_00563',\n",
       " 'BDA_12c_20181113_2_00635',\n",
       " 'BDA_12c_20181113_2_00820',\n",
       " 'BDA_12c_20181113_2_00850',\n",
       " 'BDA_18a4_20181106_2_00305',\n",
       " 'BDA_18a4_20181106_2_00340',\n",
       " 'BDA_18a4_20181106_2_00477',\n",
       " 'BDA_18a4_20181106_3_00919',\n",
       " 'BDA_unknown_20181106_1_00075',\n",
       " 'BDA_unknown_20181106_1_00137',\n",
       " 'FWS_MaxwellLake13_20171215_1_00623'}"
      ]
     },
     "execution_count": 6,
     "metadata": {},
     "output_type": "execute_result"
    }
   ],
   "source": [
    "set(modified_names)"
   ]
  }
 ],
 "metadata": {
  "kernelspec": {
   "display_name": "yolo",
   "language": "python",
   "name": "python3"
  },
  "language_info": {
   "codemirror_mode": {
    "name": "ipython",
    "version": 3
   },
   "file_extension": ".py",
   "mimetype": "text/x-python",
   "name": "python",
   "nbconvert_exporter": "python",
   "pygments_lexer": "ipython3",
   "version": "3.11.3"
  },
  "orig_nbformat": 4
 },
 "nbformat": 4,
 "nbformat_minor": 2
}
