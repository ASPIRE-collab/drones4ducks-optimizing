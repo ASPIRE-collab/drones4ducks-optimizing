{
 "cells": [
  {
   "cell_type": "code",
   "execution_count": 16,
   "metadata": {},
   "outputs": [
    {
     "name": "stdout",
     "output_type": "stream",
     "text": [
      "Number of unique modified image names: 630\n"
     ]
    }
   ],
   "source": [
    "import os\n",
    "\n",
    "def get_image_filenames(directory):\n",
    "    image_filenames = []\n",
    "    for filename in os.listdir(directory):\n",
    "        if filename.lower().endswith(('.jpg', '.png')):\n",
    "            image_filenames.append(filename)\n",
    "    return image_filenames\n",
    "\n",
    "def modify_image_names(image_filenames):\n",
    "    modified_names = []\n",
    "    for filename in image_filenames:\n",
    "        modified_name = filename[:-10]  # Remove '.JPG' suffix and the last six characters that indicate tile column/row\n",
    "        modified_names.append(modified_name)\n",
    "    return modified_names\n",
    "\n",
    "def count_unique_image_names(modified_names):\n",
    "    unique_names = set(modified_names)\n",
    "    return len(unique_names)\n",
    "\n",
    "if __name__ == \"__main__\":\n",
    "    \n",
    "    directory_path = 'E:\\\\datasets\\\\zooniverse_025\\\\images\\\\train'\n",
    "\n",
    "    image_filenames = get_image_filenames(directory_path)\n",
    "    modified_names = modify_image_names(image_filenames)\n",
    "    unique_count = count_unique_image_names(modified_names)\n",
    "\n",
    "    #print(\"Modified image names:\")\n",
    "    #for name in modified_names:\n",
    "    #    print(name)\n",
    "\n",
    "    print(\"Number of unique modified image names:\", unique_count)\n"
   ]
  }
 ],
 "metadata": {
  "kernelspec": {
   "display_name": "yolo",
   "language": "python",
   "name": "python3"
  },
  "language_info": {
   "codemirror_mode": {
    "name": "ipython",
    "version": 3
   },
   "file_extension": ".py",
   "mimetype": "text/x-python",
   "name": "python",
   "nbconvert_exporter": "python",
   "pygments_lexer": "ipython3",
   "version": "3.11.3"
  },
  "orig_nbformat": 4
 },
 "nbformat": 4,
 "nbformat_minor": 2
}
