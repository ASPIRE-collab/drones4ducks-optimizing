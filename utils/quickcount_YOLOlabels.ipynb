{
 "cells": [
  {
   "cell_type": "code",
   "execution_count": null,
   "metadata": {},
   "outputs": [],
   "source": [
    "#This script does a quick count of individual annotations within all images in the train/val/test folders\n",
    "\n",
    "import os\n",
    "\n",
    "# Path to the directory containing the YOLO training labels\n",
    "labels_directory = ''\n",
    "\n",
    "# Initialize counters for train, val, and test annotations\n",
    "train_count = 0\n",
    "val_count = 0\n",
    "test_count = 0\n",
    "\n",
    "# Iterate over the labels subdirectories\n",
    "for root, dirs, files in os.walk(labels_directory):\n",
    "    for file in files:\n",
    "        if file.endswith('.txt'):\n",
    "            file_path = os.path.join(root, file)\n",
    "            with open(file_path, 'r') as f:\n",
    "                lines = f.readlines()\n",
    "\n",
    "            # Increment the count based on the split (train, val, or test)\n",
    "            if 'train' in root:\n",
    "                train_count += len(lines)\n",
    "            elif 'val' in root:\n",
    "                val_count += len(lines)\n",
    "            elif 'test' in root:\n",
    "                test_count += len(lines)\n",
    "\n",
    "# Print the counts\n",
    "print(f\"Train annotations: {train_count}\")\n",
    "print(f\"Val annotations: {val_count}\")\n",
    "print(f\"Test annotations: {test_count}\")\n"
   ]
  }
 ],
 "metadata": {
  "kernelspec": {
   "display_name": "base",
   "language": "python",
   "name": "python3"
  },
  "language_info": {
   "codemirror_mode": {
    "name": "ipython",
    "version": 3
   },
   "file_extension": ".py",
   "mimetype": "text/x-python",
   "name": "python",
   "nbconvert_exporter": "python",
   "pygments_lexer": "ipython3",
   "version": "3.7.6"
  },
  "orig_nbformat": 4
 },
 "nbformat": 4,
 "nbformat_minor": 2
}
