{
 "cells": [
  {
   "cell_type": "code",
   "execution_count": 1,
   "metadata": {},
   "outputs": [],
   "source": [
    "import os\n",
    "from osgeo import gdal, osr"
   ]
  },
  {
   "cell_type": "code",
   "execution_count": 2,
   "metadata": {},
   "outputs": [],
   "source": [
    "def calculate_overlap(tile1_path, tile2_path):\n",
    "    # Open the raster datasets\n",
    "    tile1_dataset = gdal.Open(tile1_path)\n",
    "    tile2_dataset = gdal.Open(tile2_path)\n",
    "\n",
    "    # Get the geotransform information (bounding box) of the tiles\n",
    "    geotransform1 = tile1_dataset.GetGeoTransform()\n",
    "    geotransform2 = tile2_dataset.GetGeoTransform()\n",
    "\n",
    "    # Calculate overlapping area\n",
    "    x_min1, y_max1 = geotransform1[0], geotransform1[3]\n",
    "    x_max1, y_min1 = x_min1 + geotransform1[1] * tile1_dataset.RasterXSize, y_max1 + geotransform1[5] * tile1_dataset.RasterYSize\n",
    "\n",
    "    x_min2, y_max2 = geotransform2[0], geotransform2[3]\n",
    "    x_max2, y_min2 = x_min2 + geotransform2[1] * tile2_dataset.RasterXSize, y_max2 + geotransform2[5] * tile2_dataset.RasterYSize\n",
    "\n",
    "    x_overlap = max(0, min(x_max1, x_max2) - max(x_min1, x_min2))\n",
    "    y_overlap = max(0, min(y_max1, y_max2) - max(y_min1, y_min2))\n",
    "\n",
    "    return x_overlap * y_overlap\n",
    "\n",
    "def is_overlapping(tile_path, independent_tiles):\n",
    "    for independent_tile_path in independent_tiles:\n",
    "        if calculate_overlap(tile_path, independent_tile_path) > 0:\n",
    "            return True\n",
    "    return False\n",
    "\n",
    "def find_non_overlapping_tiles(tile_directory):\n",
    "    all_tile_paths = [os.path.join(tile_directory, file) for file in os.listdir(tile_directory) if file.endswith(\".tif\")]\n",
    "    independent_tile_paths = [all_tile_paths[0]]\n",
    "\n",
    "    for tile_path in all_tile_paths[1:]:\n",
    "        if not is_overlapping(tile_path, independent_tile_paths):\n",
    "            independent_tile_paths.append(tile_path)\n",
    "\n",
    "    return independent_tile_paths"
   ]
  },
  {
   "cell_type": "code",
   "execution_count": 3,
   "metadata": {},
   "outputs": [
    {
     "name": "stdout",
     "output_type": "stream",
     "text": [
      "Independent tile paths:\n",
      "E:\\poweranalysis\\data\\18a03\\BDA_18a03_20181106_1_00003_Projected.tif\n",
      "E:\\poweranalysis\\data\\18a03\\BDA_18a03_20181106_1_00026_Projected.tif\n",
      "E:\\poweranalysis\\data\\18a03\\BDA_18a03_20181106_1_00207_Projected.tif\n",
      "E:\\poweranalysis\\data\\18a03\\BDA_18a03_20181106_1_00208_Projected.tif\n",
      "E:\\poweranalysis\\data\\18a03\\BDA_18a03_20181106_1_00217_Projected.tif\n",
      "E:\\poweranalysis\\data\\18a03\\BDA_18a03_20181106_1_00236_Projected.tif\n"
     ]
    }
   ],
   "source": [
    "# Implementation\n",
    "tile_directory = \"E:\\\\poweranalysis\\\\data\\\\18a03\"\n",
    "independent_tile_paths = find_non_overlapping_tiles(tile_directory)\n",
    "\n",
    "print(\"Independent tile paths:\")\n",
    "for tile_path in independent_tile_paths:\n",
    "    print(tile_path)"
   ]
  }
 ],
 "metadata": {
  "kernelspec": {
   "display_name": "myenv",
   "language": "python",
   "name": "python3"
  },
  "language_info": {
   "codemirror_mode": {
    "name": "ipython",
    "version": 3
   },
   "file_extension": ".py",
   "mimetype": "text/x-python",
   "name": "python",
   "nbconvert_exporter": "python",
   "pygments_lexer": "ipython3",
   "version": "3.11.3"
  },
  "orig_nbformat": 4
 },
 "nbformat": 4,
 "nbformat_minor": 2
}
