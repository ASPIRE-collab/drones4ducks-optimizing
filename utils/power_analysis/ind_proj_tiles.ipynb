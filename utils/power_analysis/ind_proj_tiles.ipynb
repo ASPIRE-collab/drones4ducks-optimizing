{
 "cells": [
  {
   "cell_type": "code",
   "execution_count": 1,
   "metadata": {},
   "outputs": [],
   "source": [
    "import os\n",
    "from osgeo import gdal, osr"
   ]
  },
  {
   "cell_type": "code",
   "execution_count": 2,
   "metadata": {},
   "outputs": [],
   "source": [
    "def calculate_overlap(tile1_path, tile2_path):\n",
    "    # Open the raster datasets\n",
    "    tile1_dataset = gdal.Open(tile1_path)\n",
    "    tile2_dataset = gdal.Open(tile2_path)\n",
    "\n",
    "    # Get the geotransform information (bounding box) of the tiles\n",
    "    geotransform1 = tile1_dataset.GetGeoTransform()\n",
    "    geotransform2 = tile2_dataset.GetGeoTransform()\n",
    "\n",
    "    # Calculate overlapping area\n",
    "    x_min1, y_max1 = geotransform1[0], geotransform1[3]\n",
    "    x_max1, y_min1 = x_min1 + geotransform1[1] * tile1_dataset.RasterXSize, y_max1 + geotransform1[5] * tile1_dataset.RasterYSize\n",
    "\n",
    "    x_min2, y_max2 = geotransform2[0], geotransform2[3]\n",
    "    x_max2, y_min2 = x_min2 + geotransform2[1] * tile2_dataset.RasterXSize, y_max2 + geotransform2[5] * tile2_dataset.RasterYSize\n",
    "\n",
    "    x_overlap = max(0, min(x_max1, x_max2) - max(x_min1, x_min2))\n",
    "    y_overlap = max(0, min(y_max1, y_max2) - max(y_min1, y_min2))\n",
    "\n",
    "    return x_overlap * y_overlap\n",
    "\n",
    "def is_overlapping(tile_path, independent_tiles):\n",
    "    for independent_tile_path in independent_tiles:\n",
    "        if calculate_overlap(tile_path, independent_tile_path) > 0:\n",
    "            return True\n",
    "    return False\n",
    "\n",
    "def find_non_overlapping_tiles(tile_directory):\n",
    "    all_tile_paths = [os.path.join(tile_directory, file) for file in os.listdir(tile_directory) if file.endswith(\".tif\")]\n",
    "    independent_tile_paths = [all_tile_paths[0]]\n",
    "\n",
    "    for tile_path in all_tile_paths[1:]:\n",
    "        if not is_overlapping(tile_path, independent_tile_paths):\n",
    "            independent_tile_paths.append(tile_path)\n",
    "\n",
    "    return independent_tile_paths"
   ]
  },
  {
   "cell_type": "code",
   "execution_count": 3,
   "metadata": {},
   "outputs": [
    {
     "name": "stdout",
     "output_type": "stream",
     "text": [
      "Independent tile paths:\n",
      "C:\\Users\\rowanconverse\\Desktop\\PowerAnalysis\\BdA\\18bw\\BDA_18bw_20181107_00378_Projected.tif\n",
      "C:\\Users\\rowanconverse\\Desktop\\PowerAnalysis\\BdA\\18bw\\BDA_18bw_20181107_00384_Projected.tif\n",
      "C:\\Users\\rowanconverse\\Desktop\\PowerAnalysis\\BdA\\18bw\\BDA_18bw_20181107_00396_Projected.tif\n",
      "C:\\Users\\rowanconverse\\Desktop\\PowerAnalysis\\BdA\\18bw\\BDA_18bw_20181107_00402_Projected.tif\n",
      "C:\\Users\\rowanconverse\\Desktop\\PowerAnalysis\\BdA\\18bw\\BDA_18bw_20181107_00407_Projected.tif\n",
      "C:\\Users\\rowanconverse\\Desktop\\PowerAnalysis\\BdA\\18bw\\BDA_18bw_20181107_00413_Projected.tif\n",
      "C:\\Users\\rowanconverse\\Desktop\\PowerAnalysis\\BdA\\18bw\\BDA_18bw_20181107_00450_Projected.tif\n",
      "C:\\Users\\rowanconverse\\Desktop\\PowerAnalysis\\BdA\\18bw\\BDA_18bw_20181107_00454_Projected.tif\n",
      "C:\\Users\\rowanconverse\\Desktop\\PowerAnalysis\\BdA\\18bw\\BDA_18bw_20181107_00485_Projected.tif\n",
      "C:\\Users\\rowanconverse\\Desktop\\PowerAnalysis\\BdA\\18bw\\BDA_18bw_20181107_00490_Projected.tif\n",
      "C:\\Users\\rowanconverse\\Desktop\\PowerAnalysis\\BdA\\18bw\\BDA_18bw_20181107_00496_Projected.tif\n",
      "C:\\Users\\rowanconverse\\Desktop\\PowerAnalysis\\BdA\\18bw\\BDA_18bw_20181107_00500_Projected.tif\n",
      "C:\\Users\\rowanconverse\\Desktop\\PowerAnalysis\\BdA\\18bw\\BDA_18bw_20181107_00528_Projected.tif\n"
     ]
    }
   ],
   "source": [
    "# Example usage\n",
    "tile_directory = \"C:\\\\Users\\\\rowanconverse\\\\Desktop\\\\PowerAnalysis\\\\BdA\\\\18bw\"\n",
    "independent_tile_paths = find_non_overlapping_tiles(tile_directory)\n",
    "\n",
    "print(\"Independent tile paths:\")\n",
    "for tile_path in independent_tile_paths:\n",
    "    print(tile_path)"
   ]
  },
  {
   "cell_type": "code",
   "execution_count": 9,
   "metadata": {},
   "outputs": [],
   "source": [
    "#Derive detection radius for projected tile\n",
    "\n",
    "import numpy as np\n",
    "import rasterio\n",
    "from rasterio.transform import from_origin\n",
    "\n",
    "def create_circular_clip(input_path, output_path):\n",
    "    with rasterio.open(input_path) as src:\n",
    "        data = src.read()\n",
    "        num_bands = src.count\n",
    "        \n",
    "        # Create a mask for null values (0, 0, 0) across all bands\n",
    "        null_mask = np.all(data == 0, axis=0)\n",
    "        \n",
    "        center_x = src.width / 2\n",
    "        center_y = src.height / 2\n",
    "        \n",
    "        min_distance_x = min(center_x, src.width - center_x)\n",
    "        min_distance_y = min(center_y, src.height - center_y)\n",
    "        radius_pixels = int(min(min_distance_x, min_distance_y))\n",
    "        \n",
    "        y_coords, x_coords = np.ogrid[:src.height, :src.width]\n",
    "        dist_from_center = np.sqrt((x_coords - center_x)**2 + (y_coords - center_y)**2)\n",
    "        circular_mask = dist_from_center <= radius_pixels\n",
    "        \n",
    "        combined_mask = ~null_mask & circular_mask\n",
    "        \n",
    "        circular_clip = np.zeros_like(data, dtype=src.dtypes[0])\n",
    "        for band in range(num_bands):\n",
    "            circular_clip[band] = data[band] * combined_mask\n",
    "        \n",
    "        clipped_transform = from_origin(\n",
    "            src.transform.xoff, src.transform.yoff,\n",
    "            src.transform.a, src.transform.a\n",
    "        )\n",
    "        \n",
    "        with rasterio.open(output_path, 'w', driver='GTiff', width=src.width, height=src.height,\n",
    "                           count=num_bands, dtype=src.dtypes[0], crs=src.crs,\n",
    "                           transform=clipped_transform) as dst:\n",
    "            for band in range(num_bands):\n",
    "                dst.write(circular_clip[band], band + 1)\n",
    "\n",
    "# Specify input and output file paths\n",
    "input_path = 'C:\\\\Users\\\\rowanconverse\\\\Desktop\\\\PowerAnalysis\\\\BdA\\\\18bw\\\\BDA_18bw_20181107_00378_Projected.tif'\n",
    "output_path = 'C:\\\\Users\\\\rowanconverse\\\\Desktop\\\\PowerAnalysis\\\\BdA\\\\test_clip6.tif'\n",
    "\n",
    "create_circular_clip(input_path, output_path)\n"
   ]
  },
  {
   "cell_type": "code",
   "execution_count": 10,
   "metadata": {},
   "outputs": [
    {
     "name": "stdout",
     "output_type": "stream",
     "text": [
      "Clipping complete.\n"
     ]
    }
   ],
   "source": [
    "#Iterate the detection radius clips over a directory\n",
    "\n",
    "import os\n",
    "\n",
    "# Input and output directories\n",
    "input_dir = 'C:\\\\Users\\\\rowanconverse\\\\Desktop\\\\PowerAnalysis\\\\BdA\\\\18bw'\n",
    "output_dir = 'C:\\\\Users\\\\rowanconverse\\\\Desktop\\\\PowerAnalysis\\\\BdA\\\\18bw_radius'\n",
    "\n",
    "# Iterate over files in the input directory\n",
    "for filename in os.listdir(input_dir):\n",
    "    if filename.endswith('.tif'):  # Assuming your tiles are GeoTIFFs\n",
    "        input_path = os.path.join(input_dir, filename)\n",
    "        output_filename = f\"{os.path.splitext(filename)[0]}_clip.tif\"\n",
    "        output_path = os.path.join(output_dir, output_filename)\n",
    "        \n",
    "        create_circular_clip(input_path, output_path)\n",
    "\n",
    "print(\"Clipping complete.\")\n"
   ]
  }
 ],
 "metadata": {
  "kernelspec": {
   "display_name": "myenv",
   "language": "python",
   "name": "python3"
  },
  "language_info": {
   "codemirror_mode": {
    "name": "ipython",
    "version": 3
   },
   "file_extension": ".py",
   "mimetype": "text/x-python",
   "name": "python",
   "nbconvert_exporter": "python",
   "pygments_lexer": "ipython3",
   "version": "3.11.3"
  },
  "orig_nbformat": 4
 },
 "nbformat": 4,
 "nbformat_minor": 2
}
