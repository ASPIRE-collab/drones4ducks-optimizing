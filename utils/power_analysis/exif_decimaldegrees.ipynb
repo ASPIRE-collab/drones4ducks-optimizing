{
 "cells": [
  {
   "cell_type": "code",
   "execution_count": 3,
   "metadata": {},
   "outputs": [
    {
     "name": "stdout",
     "output_type": "stream",
     "text": [
      "Conversion completed and saved to C:\\Users\\rowanconverse\\Desktop\\PowerAnalysis\\metadata_bda_12c01_update.csv\n"
     ]
    }
   ],
   "source": [
    "#Single file-- convert EXIF DMS to DD \n",
    "import pandas as pd\n",
    "import re\n",
    "\n",
    "# Load the CSV file\n",
    "csv_file_path = 'C:\\\\path...\\\\file.csv'\n",
    "data = pd.read_csv(csv_file_path)\n",
    "\n",
    "# Define a function to convert DMS (Degrees, Minutes, Seconds) to decimal degrees\n",
    "def dms_to_decimal(dms_str):\n",
    "    dms_pattern = r\"(\\d+) deg (\\d+)' (\\d+\\.\\d+)\\\" ([NSEW])\"\n",
    "    match = re.match(dms_pattern, dms_str)\n",
    "    \n",
    "    if match:\n",
    "        degrees = float(match.group(1))\n",
    "        minutes = float(match.group(2))\n",
    "        seconds = float(match.group(3))\n",
    "        direction = match.group(4)\n",
    "\n",
    "        decimal_degrees = degrees + minutes / 60 + seconds / 3600\n",
    "\n",
    "        if direction in ['S', 'W']:\n",
    "            decimal_degrees = -decimal_degrees\n",
    "\n",
    "        return decimal_degrees\n",
    "    else:\n",
    "        return None\n",
    "\n",
    "# Apply the conversion function to latitude and longitude columns\n",
    "data['latitude_decimal'] = data['latitude'].apply(dms_to_decimal)\n",
    "data['longitude_decimal'] = data['longitude'].apply(dms_to_decimal)\n",
    "\n",
    "# Save the updated data to a new CSV file\n",
    "output_csv_file_path = 'C:\\\\path..\\\\file_update.csv'\n",
    "data.to_csv(output_csv_file_path, index=False)\n",
    "\n",
    "print(\"Conversion completed and saved to\", output_csv_file_path)\n",
    "\n"
   ]
  },
  {
   "cell_type": "code",
   "execution_count": 5,
   "metadata": {},
   "outputs": [
    {
     "name": "stdout",
     "output_type": "stream",
     "text": [
      "Conversion completed and saved to C:\\Users\\rowanconverse\\Desktop\\PowerAnalysis\\BdA\\dd_metadata_bda_12c01.csv\n",
      "Conversion completed and saved to C:\\Users\\rowanconverse\\Desktop\\PowerAnalysis\\BdA\\dd_metadata_bda_18a03.csv\n",
      "Conversion completed and saved to C:\\Users\\rowanconverse\\Desktop\\PowerAnalysis\\BdA\\dd_metadata_bda_18a04_1.csv\n",
      "Conversion completed and saved to C:\\Users\\rowanconverse\\Desktop\\PowerAnalysis\\BdA\\dd_metadata_bda_18a04_2.csv\n",
      "Conversion completed and saved to C:\\Users\\rowanconverse\\Desktop\\PowerAnalysis\\BdA\\dd_metadata_bda_18bw.csv\n",
      "Conversion completed and saved to C:\\Users\\rowanconverse\\Desktop\\PowerAnalysis\\BdA\\dd_metadata_bda_18d_1.csv\n",
      "Conversion completed and saved to C:\\Users\\rowanconverse\\Desktop\\PowerAnalysis\\BdA\\dd_metadata_bda_18d_2.csv\n",
      "Conversion completed and saved to C:\\Users\\rowanconverse\\Desktop\\PowerAnalysis\\BdA\\dd_metadata_bda_34c.csv\n"
     ]
    }
   ],
   "source": [
    "#For a set of csv files\n",
    "\n",
    "import pandas as pd\n",
    "import re\n",
    "import os\n",
    "\n",
    "# Specify the directory containing your CSV files\n",
    "input_directory = 'C:\\\\path...'\n",
    "\n",
    "# List all CSV files in the directory\n",
    "csv_files = [file for file in os.listdir(input_directory) if file.endswith('.csv')]\n",
    "\n",
    "# Define the DMS to decimal conversion function\n",
    "def dms_to_decimal(dms_str):\n",
    "    dms_pattern = r\"(\\d+) deg (\\d+)' (\\d+\\.\\d+)\\\" ([NSEW])\"\n",
    "    match = re.match(dms_pattern, dms_str)\n",
    "    \n",
    "    if match:\n",
    "        degrees = float(match.group(1))\n",
    "        minutes = float(match.group(2))\n",
    "        seconds = float(match.group(3))\n",
    "        direction = match.group(4)\n",
    "\n",
    "        decimal_degrees = degrees + minutes / 60 + seconds / 3600\n",
    "\n",
    "        if direction in ['S', 'W']:\n",
    "            decimal_degrees = -decimal_degrees\n",
    "\n",
    "        return decimal_degrees\n",
    "    else:\n",
    "        return None\n",
    "\n",
    "# Loop through each CSV file\n",
    "for csv_file in csv_files:\n",
    "    csv_file_path = os.path.join(input_directory, csv_file)\n",
    "    output_csv_file_path = os.path.join(input_directory, f\"dd_{csv_file}\")\n",
    "\n",
    "    # Load the CSV file\n",
    "    data = pd.read_csv(csv_file_path)\n",
    "\n",
    "    # Convert non-string values to string in latitude and longitude columns\n",
    "    data['latitude'] = data['latitude'].astype(str)\n",
    "    data['longitude'] = data['longitude'].astype(str)\n",
    "\n",
    "    # Apply the conversion function to latitude and longitude columns\n",
    "    data['latitude_decimal'] = data['latitude'].apply(dms_to_decimal)\n",
    "    data['longitude_decimal'] = data['longitude'].apply(dms_to_decimal)\n",
    "\n",
    "    # Save the updated data to a new CSV file\n",
    "    data.to_csv(output_csv_file_path, index=False)\n",
    "\n",
    "    print(f\"Conversion completed and saved to {output_csv_file_path}\")\n"
   ]
  }
 ],
 "metadata": {
  "kernelspec": {
   "display_name": "myenv",
   "language": "python",
   "name": "python3"
  },
  "language_info": {
   "codemirror_mode": {
    "name": "ipython",
    "version": 3
   },
   "file_extension": ".py",
   "mimetype": "text/x-python",
   "name": "python",
   "nbconvert_exporter": "python",
   "pygments_lexer": "ipython3",
   "version": "3.11.3"
  },
  "orig_nbformat": 4
 },
 "nbformat": 4,
 "nbformat_minor": 2
}
