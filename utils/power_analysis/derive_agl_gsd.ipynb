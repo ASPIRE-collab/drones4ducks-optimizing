{
 "cells": [
  {
   "cell_type": "code",
   "execution_count": 19,
   "metadata": {},
   "outputs": [],
   "source": [
    "from PIL import Image\n",
    "import os\n",
    "import csv\n",
    "#import exifread\n",
    "from PIL.ExifTags import TAGS\n",
    "from exif import Image"
   ]
  },
  {
   "cell_type": "code",
   "execution_count": 4,
   "metadata": {},
   "outputs": [],
   "source": [
    "master_directory = \"E:\\\\imagefactors\\\\data\\\\originals\"\n",
    "csv_file = \"E:\\\\imagefactors\\\\data\\\\originals_agl_gsd.csv\"\n",
    "\n",
    "csv_header = [\"filename\", \"altitude\", \"gsd\"]\n",
    "\n",
    "with open(csv_file, mode='w', newline='') as csv_output:\n",
    "    csv_writer = csv.writer(csv_output)\n",
    "    csv_writer.writerow(csv_header)"
   ]
  },
  {
   "cell_type": "code",
   "execution_count": 18,
   "metadata": {},
   "outputs": [
    {
     "name": "stdout",
     "output_type": "stream",
     "text": [
      "1606.0\n"
     ]
    }
   ],
   "source": [
    "# Open an example image and extract EXIF data for altitude (reference for getting any EXIF tag)\n",
    "image_path = \"E:\\\\imagefactors\\\\data\\\\originals\\\\20211212_Alameda_0258.JPG\"\n",
    "\n",
    "with open(image_path, 'rb') as src:\n",
    "    img = Image(src)\n",
    "    #print(img.list_all()) # this is where you can get all the EXIF tag names to get relevant values\n",
    "    altitude = img.get(\"gps_altitude\")\n",
    "    print(altitude)"
   ]
  },
  {
   "cell_type": "code",
   "execution_count": 21,
   "metadata": {},
   "outputs": [],
   "source": [
    "# Get altitude and GSD for all images-- one site at a time, because ground elevation must be constant\n",
    "\n",
    "ground_elevation = 1844\n",
    "\n",
    "# Define sensor parameters (in millimeters)-- this is Mavic 2 Pro\n",
    "image_width = 5472  # Example image width in pixels\n",
    "image_height = 3648  # Example image height in pixels\n",
    "sensor_width = 0.0128  # Make sure this is converted to meters!\n",
    "sensor_height = 0.0096  # Make sure this is converted to meters!\n",
    "focal_length = 0.01035  # Make sure this is converted to meters!\n",
    "\n",
    "altitude_data = []  # List to store extracted altitude values\n",
    "\n",
    "for transect_id in os.listdir(master_directory):\n",
    "    transect_dir = os.path.join(master_directory, transect_id)\n",
    "    \n",
    "    if os.path.isdir(transect_dir):\n",
    "        for image_filename in os.listdir(transect_dir):\n",
    "            if image_filename.lower().endswith(('.jpg', '.jpeg', '.png')):\n",
    "                image_path = os.path.join(transect_dir, image_filename)\n",
    "                    \n",
    "                # Open the image and extract EXIF data\n",
    "                with open(image_path, 'rb') as src:\n",
    "                    img = Image(src)\n",
    "    \n",
    "                    altitude = img.get(\"gps_altitude\")\n",
    "                # Calculate altitude above ground level\n",
    "                agl_altitude = altitude - ground_elevation if altitude is not None else None\n",
    "                altitude_data.append((image_filename, agl_altitude))\n",
    "\n",
    "# Calculate GSD and write data to CSV\n",
    "with open(csv_file, mode='a', newline='') as csv_output:\n",
    "    csv_writer = csv.writer(csv_output)\n",
    "    \n",
    "    for image_filename, transect_id, agl_altitude in altitude_data:\n",
    "        if agl_altitude is not None:\n",
    "            # Calculate ground sampling distance (in meters/px)\n",
    "            gsd_m = (sensor_width * agl_altitude) / (focal_length * image_width)\n",
    "            gsd = gsd_m*100 #convert to cm-- optional\n",
    "        else:\n",
    "            gsd = None\n",
    "\n",
    "        # Write data to CSV\n",
    "        csv_writer.writerow([image_filename, agl_altitude, gsd])\n"
   ]
  },
  {
   "cell_type": "code",
   "execution_count": 21,
   "metadata": {},
   "outputs": [],
   "source": [
    "#Using a csv output from ExifTool that contains Relative Altitude (DJI drones only, so far)\n",
    "\n",
    "# Define sensor parameters (in millimeters)-- this is Mavic 2 Pro\n",
    "image_width = 5472  # Example image width in pixels\n",
    "image_height = 3648  # Example image height in pixels\n",
    "sensor_width = 0.0128  # Make sure this is converted to meters!\n",
    "sensor_height = 0.0096  # Make sure this is converted to meters!\n",
    "focal_length = 0.01035  # Make sure this is converted to meters!\n",
    "\n",
    "altitude_data = []  # List to store extracted altitude values\n",
    "\n",
    "with open('E:\\\\imagefactors\\\\data\\\\originals\\\\exif.csv', mode='r') as csv_file:\n",
    "    csv_reader = csv.DictReader(csv_file)\n",
    "    \n",
    "    for row in csv_reader:\n",
    "        # Extract the \"RelativeAltitude\" and \"FileName\" values\n",
    "        relative_altitude = row.get(\"RelativeAltitude\", None)\n",
    "        image_filename = row.get(\"FileName\", None)\n",
    "\n",
    "        if relative_altitude is not None and relative_altitude.strip() != '' and image_filename is not None:\n",
    "            try:\n",
    "                relative_altitude = float(relative_altitude)\n",
    "                altitude_data.append((image_filename, relative_altitude))\n",
    "            except ValueError:\n",
    "                print(f\"Skipping row: {image_filename} - Invalid RelativeAltitude value: {relative_altitude}\")\n",
    "\n",
    "# Calculate GSD and write data to a new CSV file\n",
    "with open('E:\\\\imagefactors\\\\data\\\\originals_gsd.csv', mode='w', newline='') as csv_output:\n",
    "    csv_writer = csv.writer(csv_output)\n",
    "    csv_writer.writerow([\"Image Filename\", \"Relative Altitude (m)\", \"GSD (cm)\"])\n",
    "    \n",
    "    for image_filename, relative_altitude in altitude_data:\n",
    "        # Calculate GSD (in cm)\n",
    "        gsd_m = (sensor_width * relative_altitude) / (focal_length * image_width)\n",
    "        gsd_cm = gsd_m * 100  # Convert to cm\n",
    "\n",
    "        # Write data to the new CSV file\n",
    "        csv_writer.writerow([image_filename, relative_altitude, gsd_cm])"
   ]
  }
 ],
 "metadata": {
  "kernelspec": {
   "display_name": "myenv",
   "language": "python",
   "name": "python3"
  },
  "language_info": {
   "codemirror_mode": {
    "name": "ipython",
    "version": 3
   },
   "file_extension": ".py",
   "mimetype": "text/x-python",
   "name": "python",
   "nbconvert_exporter": "python",
   "pygments_lexer": "ipython3",
   "version": "3.11.3"
  },
  "orig_nbformat": 4
 },
 "nbformat": 4,
 "nbformat_minor": 2
}
