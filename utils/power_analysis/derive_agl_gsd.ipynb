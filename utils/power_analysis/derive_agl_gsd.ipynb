{
 "cells": [
  {
   "cell_type": "code",
   "execution_count": 2,
   "metadata": {},
   "outputs": [],
   "source": [
    "from PIL import Image\n",
    "import os\n",
    "import csv\n",
    "import exifread\n",
    "from PIL.ExifTags import TAGS\n",
    "from exif import Image"
   ]
  },
  {
   "cell_type": "code",
   "execution_count": 20,
   "metadata": {},
   "outputs": [],
   "source": [
    "master_directory = \"C:\\\\Users\\\\rowanconverse\\\\Desktop\\\\PowerAnalysis\\\\independent_imgs\"\n",
    "csv_file = \"mxw_agl_gsd.csv\"\n",
    "\n",
    "csv_header = [\"image_filename\", \"transect_id\", \"altitude\", \"gsd\"]\n",
    "\n",
    "with open(csv_file, mode='w', newline='') as csv_output:\n",
    "    csv_writer = csv.writer(csv_output)\n",
    "    csv_writer.writerow(csv_header)"
   ]
  },
  {
   "cell_type": "code",
   "execution_count": 6,
   "metadata": {},
   "outputs": [
    {
     "name": "stdout",
     "output_type": "stream",
     "text": [
      "1900.4636\n"
     ]
    }
   ],
   "source": [
    "# Open an example image and extract EXIF data for altitude (reference for getting any EXIF tag)\n",
    "image_path = \"C:\\\\Users\\\\rowanconverse\\\\Desktop\\\\PowerAnalysis\\\\independent_imgs\\\\9\\\\EP-01-26106_0010_0488.JPG\"\n",
    "\n",
    "with open(image_path, 'rb') as src:\n",
    "    img = Image(src)\n",
    "    #print(img.list_all()) # this is where you can get all the EXIF tag names to get relevant values\n",
    "    altitude = img.get(\"gps_altitude\")\n",
    "    print(altitude)"
   ]
  },
  {
   "cell_type": "code",
   "execution_count": 21,
   "metadata": {},
   "outputs": [],
   "source": [
    "# Get altitude and GSD for all images\n",
    "\n",
    "ground_elevation = 1844\n",
    "\n",
    "# Define sensor parameters (in millimeters)\n",
    "image_width = 5472  # Example image width in pixels\n",
    "image_height = 3648  # Example image height in pixels\n",
    "sensor_width = 0.0132  # Make sure this is converted to meters!\n",
    "sensor_height = 0.0088  # Make sure this is converted to meters!\n",
    "focal_length = 0.0106  # Make sure this is converted to meters!\n",
    "\n",
    "altitude_data = []  # List to store extracted altitude values\n",
    "\n",
    "for transect_id in os.listdir(master_directory):\n",
    "    transect_dir = os.path.join(master_directory, transect_id)\n",
    "    \n",
    "    if os.path.isdir(transect_dir):\n",
    "        for image_filename in os.listdir(transect_dir):\n",
    "            if image_filename.lower().endswith(('.jpg', '.jpeg', '.png')):\n",
    "                image_path = os.path.join(transect_dir, image_filename)\n",
    "                    \n",
    "                # Open the image and extract EXIF data\n",
    "                with open(image_path, 'rb') as src:\n",
    "                    img = Image(src)\n",
    "    \n",
    "                    altitude = img.get(\"gps_altitude\")\n",
    "                # Calculate altitude above ground level\n",
    "                agl_altitude = altitude - ground_elevation if altitude is not None else None\n",
    "                altitude_data.append((image_filename, transect_id, agl_altitude))\n",
    "\n",
    "# Calculate GSD and write data to CSV\n",
    "with open(csv_file, mode='a', newline='') as csv_output:\n",
    "    csv_writer = csv.writer(csv_output)\n",
    "    \n",
    "    for image_filename, transect_id, agl_altitude in altitude_data:\n",
    "        if agl_altitude is not None:\n",
    "            # Calculate ground sampling distance (in meters/px)\n",
    "            gsd_m = (sensor_width * agl_altitude) / (focal_length * image_width)\n",
    "            gsd = gsd_m*100 #convert to cm-- optional\n",
    "        else:\n",
    "            gsd = None\n",
    "\n",
    "        # Write data to CSV\n",
    "        csv_writer.writerow([image_filename, transect_id, agl_altitude, gsd])\n"
   ]
  }
 ],
 "metadata": {
  "kernelspec": {
   "display_name": "myenv",
   "language": "python",
   "name": "python3"
  },
  "language_info": {
   "codemirror_mode": {
    "name": "ipython",
    "version": 3
   },
   "file_extension": ".py",
   "mimetype": "text/x-python",
   "name": "python",
   "nbconvert_exporter": "python",
   "pygments_lexer": "ipython3",
   "version": "3.11.3"
  },
  "orig_nbformat": 4
 },
 "nbformat": 4,
 "nbformat_minor": 2
}
