{
 "cells": [
  {
   "cell_type": "code",
   "execution_count": null,
   "metadata": {},
   "outputs": [],
   "source": [
    "#Fixed to use altitude/GSD from each individual image to calculate ground distance from drone of individual annotations\n",
    "\n",
    "import pandas as pd\n",
    "import ast\n",
    "\n",
    "# Read the two CSV files\n",
    "df_annotations = pd.read_csv(\"C:\\\\...\\site_anns.csv\") #COCO format SAHI outputs\n",
    "df_annotations['bbox'] = df_annotations['bbox'].apply(ast.literal_eval)\n",
    "df_resolution = pd.read_csv(\"C:\\\\...\\\\site_metadata.csv\") # \"derive_agl_gsd.ipynb\" output\n",
    "\n",
    "# Merge the two dataframes based on the 'filename' column\n",
    "merged_df = df_annotations.merge(df_resolution, on='filename', how='inner')\n",
    "\n",
    "# Image center in pixels\n",
    "center_x_px, center_y_px = 2736, 1824  # Specify according to your image set\n",
    "\n",
    "# Calculate the center point in meters\n",
    "merged_df['center_x_m'] = center_x_px * merged_df['gsd']\n",
    "merged_df['center_y_m'] = center_y_px * merged_df['gsd']\n",
    "\n",
    "# Function to calculate distance from center\n",
    "def calculate_distance_from_center(row):\n",
    "    # Get the coordinates of the bounding box (x, y, width, height)\n",
    "    x, y, width, height = row['bbox']\n",
    "\n",
    "    # Calculate the center point of the bounding box in pixels\n",
    "    bbox_center_x_px = x + (width / 2)\n",
    "    bbox_center_y_px = y + (height / 2)\n",
    "\n",
    "    # Calculate the center point of the bounding box in meters\n",
    "    bbox_center_x_m = bbox_center_x_px * row['gsd']\n",
    "    bbox_center_y_m = bbox_center_y_px * row['gsd']\n",
    "\n",
    "    # Calculate the distance from the center of the image in meters\n",
    "    distance_m = ((row['center_x_m'] - bbox_center_x_m)**2 + (row['center_y_m'] - bbox_center_y_m)**2)**0.5\n",
    "\n",
    "    return distance_m\n",
    "\n",
    "# Apply the function to the merged dataframe\n",
    "merged_df['distance_from_center'] = merged_df.apply(calculate_distance_from_center, axis=1)\n",
    "\n",
    "# Export the modified dataframe to CSV\n",
    "savepath = \"C:\\\\...\\\\\"  # Desired output directory\n",
    "merged_df.to_csv(savepath + \"distance_anns.csv\", index=False)  # Desired filename\n"
   ]
  }
 ],
 "metadata": {
  "kernelspec": {
   "display_name": "yolo",
   "language": "python",
   "name": "python3"
  },
  "language_info": {
   "codemirror_mode": {
    "name": "ipython",
    "version": 3
   },
   "file_extension": ".py",
   "mimetype": "text/x-python",
   "name": "python",
   "nbconvert_exporter": "python",
   "pygments_lexer": "ipython3",
   "version": "3.11.3"
  },
  "orig_nbformat": 4
 },
 "nbformat": 4,
 "nbformat_minor": 2
}
