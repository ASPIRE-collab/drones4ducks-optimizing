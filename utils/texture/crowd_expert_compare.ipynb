{
 "cells": [
  {
   "cell_type": "code",
   "execution_count": null,
   "metadata": {},
   "outputs": [],
   "source": [
    "import csv\n",
    "\n",
    "# Function to calculate the average GSD from a CSV file\n",
    "def calculate_average_gsd(csv_file_path):\n",
    "    gsd_values = []\n",
    "    with open(csv_file_path, mode='r') as csv_file:\n",
    "        csv_reader = csv.DictReader(csv_file)\n",
    "        for row in csv_reader:\n",
    "            gsd_cm = float(row.get(\"gsd\", 0))  # Get the GSD value and convert to float\n",
    "            gsd_values.append(gsd_cm)\n",
    "    \n",
    "    # Calculate the average GSD\n",
    "    if gsd_values:\n",
    "        average_gsd = sum(gsd_values) / len(gsd_values)\n",
    "    else:\n",
    "        average_gsd = 0.0  # Default value when no GSD values are available\n",
    "    \n",
    "    return average_gsd\n",
    "\n",
    "# Paths to the two CSV files to compare\n",
    "csv_file_path_1 = 'E:\\\\imagefactors\\\\data\\\\expert_imagefactors_SPP.csv'\n",
    "csv_file_path_2 = 'E:\\\\imagefactors\\\\data\\\\crowdsourced_imagefactors.csv'\n",
    "\n",
    "# Calculate the average GSD for both files\n",
    "average_gsd_1 = calculate_average_gsd(csv_file_path_1)\n",
    "average_gsd_2 = calculate_average_gsd(csv_file_path_2)\n",
    "\n",
    "# Compare and print the results\n",
    "if average_gsd_1 > average_gsd_2:\n",
    "    print(f\"Average GSD in CSV file 1 is greater: {average_gsd_1} cm, compared to {average_gsd_2}\")\n",
    "elif average_gsd_1 < average_gsd_2:\n",
    "    print(f\"Average GSD in CSV file 2 is greater: {average_gsd_2} cm, compared to {average_gsd_1}\")\n",
    "else:\n",
    "    print(f\"Average GSDs in both CSV files are equal: {average_gsd_1} cm\")"
   ]
  }
 ],
 "metadata": {
  "language_info": {
   "name": "python"
  },
  "orig_nbformat": 4
 },
 "nbformat": 4,
 "nbformat_minor": 2
}
