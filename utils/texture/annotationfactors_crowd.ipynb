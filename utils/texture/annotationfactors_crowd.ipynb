{
 "cells": [
  {
   "attachments": {},
   "cell_type": "markdown",
   "metadata": {},
   "source": [
    "Analysis of image factors on annotation consensus-- Zooniverse\n",
    "Start date: 09/26/2023"
   ]
  },
  {
   "cell_type": "code",
   "execution_count": 1,
   "metadata": {},
   "outputs": [],
   "source": [
    "#Imports\n",
    "import pandas as pd\n",
    "import numpy as np\n",
    "import matplotlib.pyplot as plt\n",
    "import os\n",
    "import ast"
   ]
  },
  {
   "cell_type": "code",
   "execution_count": 2,
   "metadata": {},
   "outputs": [],
   "source": [
    "#Analysis annotations\n",
    "path = \"C:\\\\Users\\\\rowanconverse\\\\OneDrive - University of New Mexico\\\\Projects\\\\DronesForDucks\\\\Data\\\\Labels\\\\PowerAnalysis\\\\consensusLabels_agreementIndex.csv\"\n",
    "with open(path) as f:\n",
    "  df = pd.read_csv(f)\n",
    "\n",
    "#Fixing how bounding boxes are read for the analysis labels\n",
    "def eval_bbox_refined(row):\n",
    "    if pd.notnull(row['bbox_refined']):\n",
    "        return ast.literal_eval(row['bbox_refined'])\n",
    "    else:\n",
    "        return None\n",
    "# Apply the function to the 'bbox_refined' column and save the results\n",
    "df['bbox_refined'] = df.apply(eval_bbox_refined, axis=1)\n",
    "\n",
    "#Creating a base file column to match tiles to full images later\n",
    "df[\"basefile\"] = [x[:-10] for x in df['filename']]"
   ]
  },
  {
   "cell_type": "code",
   "execution_count": null,
   "metadata": {},
   "outputs": [
    {
     "data": {
      "text/plain": [
       "cat_id_orig\n",
       "1    7526.664935\n",
       "2    3320.921627\n",
       "3    4601.065124\n",
       "4    6155.775552\n",
       "Name: area, dtype: float64"
      ]
     },
     "execution_count": 6,
     "metadata": {},
     "output_type": "execute_result"
    }
   ],
   "source": [
    "#Calculating area of original annotations \n",
    "df['bbox_orig'] = df['bbox_orig'].apply(ast.literal_eval)\n",
    "\n",
    "def calc_area(row):\n",
    "    bbox = row['bbox_orig']\n",
    "    xmin, ymin, w, h = bbox\n",
    "    return w * h\n",
    "\n",
    "df['area'] = df.apply(calc_area, axis=1)\n",
    "\n",
    "#Calculate % area compared to image tile:\n",
    "\n",
    "#for each annotation, loop division of area column / total image area, save value as % area"
   ]
  },
  {
   "cell_type": "code",
   "execution_count": null,
   "metadata": {},
   "outputs": [],
   "source": [
    "#How many neighbor targets (within a radius about the size of 1 target)\n",
    "\n",
    "# % of targets of the same class in the same image, as the analysis target"
   ]
  },
  {
   "cell_type": "code",
   "execution_count": null,
   "metadata": {},
   "outputs": [],
   "source": [
    "#Distance from image center"
   ]
  },
  {
   "cell_type": "code",
   "execution_count": null,
   "metadata": {},
   "outputs": [],
   "source": [
    "#GCLM derivatives: ratio of donut to target"
   ]
  }
 ],
 "metadata": {
  "kernelspec": {
   "display_name": "dronesforducks",
   "language": "python",
   "name": "python3"
  },
  "language_info": {
   "codemirror_mode": {
    "name": "ipython",
    "version": 3
   },
   "file_extension": ".py",
   "mimetype": "text/x-python",
   "name": "python",
   "nbconvert_exporter": "python",
   "pygments_lexer": "ipython3",
   "version": "3.11.3"
  },
  "orig_nbformat": 4
 },
 "nbformat": 4,
 "nbformat_minor": 2
}
