{
 "cells": [
  {
   "cell_type": "code",
   "execution_count": null,
   "metadata": {},
   "outputs": [],
   "source": [
    "import os\n",
    "import shutil\n",
    "import csv"
   ]
  },
  {
   "cell_type": "code",
   "execution_count": null,
   "metadata": {},
   "outputs": [],
   "source": [
    "#Copy YOLO txt labels that match the benchmark list into a new directory\n",
    "#might be useful later but no big deal, the crowd consensus labels are already in their own csv, forgot about it. \n",
    "\n",
    "def copy_images_from_list(source_dir, destination_dir, image_dir):\n",
    "    # Create the destination directory if it doesn't exist\n",
    "    os.makedirs(destination_dir, exist_ok=True)\n",
    "\n",
    "    # Get the list of image filenames\n",
    "    image_filenames = os.listdir(image_dir)\n",
    "\n",
    "    for filename in image_filenames:\n",
    "        base_filename = os.path.splitext(filename)[0]  # Remove the file extension\n",
    "        label_file = os.path.join(source_dir, base_filename + '.txt')\n",
    "        image_file = os.path.join(image_dir, filename)\n",
    "\n",
    "        # Check if both label and image files exist\n",
    "        if os.path.isfile(label_file) and os.path.isfile(image_file):\n",
    "            # Copy the label file\n",
    "            shutil.copy2(label_file, destination_dir)\n",
    "\n",
    "            # Copy the image file\n",
    "            #shutil.copy2(image_file, destination_dir)\n",
    "            print(f\"Successfully copied {base_filename}.txt\")\n",
    "        else:\n",
    "            print(f\"Files for {base_filename} not found!\")\n",
    "\n",
    "# Specify the source directory, destination directory, and the directory containing the image files\n",
    "source_directory = 'C:\\\\Users\\\\rowanconverse\\\\Desktop\\\\data\\\\zooniverse\\\\'\n",
    "destination_directory = 'C:\\\\Users\\\\rowanconverse\\\\Desktop\\\\data\\\\benchmark\\\\'\n",
    "image_directory = 'C:\\\\Users\\\\rowanconverse\\\\Desktop\\\\data\\\\tiles\\\\'\n",
    "\n",
    "# Call the function to copy the images\n",
    "copy_images_from_list(source_directory, destination_directory, image_directory)\n"
   ]
  }
 ],
 "metadata": {
  "kernelspec": {
   "display_name": "myenv",
   "language": "python",
   "name": "python3"
  },
  "language_info": {
   "codemirror_mode": {
    "name": "ipython",
    "version": 3
   },
   "file_extension": ".py",
   "mimetype": "text/x-python",
   "name": "python",
   "nbconvert_exporter": "python",
   "pygments_lexer": "ipython3",
   "version": "3.11.3"
  },
  "orig_nbformat": 4
 },
 "nbformat": 4,
 "nbformat_minor": 2
}
