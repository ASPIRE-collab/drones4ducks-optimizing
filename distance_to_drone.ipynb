{
 "cells": [
  {
   "cell_type": "code",
   "execution_count": null,
   "metadata": {},
   "outputs": [],
   "source": [
    "#Load SAHI detection output-- COCO format saved as CSV\n",
    "import pandas as pd\n",
    "\n",
    "df = pd.read_csv(\"annotations.csv\")\n",
    "df.head()"
   ]
  },
  {
   "cell_type": "code",
   "execution_count": null,
   "metadata": {},
   "outputs": [],
   "source": [
    "#Calculate distance from each COCO bounding box to image center\n",
    "\n",
    "# Resolution in cm/px\n",
    "resolution_cm_px = 1.14 #specify according to your image set\n",
    "\n",
    "# Convert resolution from cm/px to meters/px\n",
    "resolution_m_px = resolution_cm_px / 100.0\n",
    "\n",
    "# Image center in pixels\n",
    "center_x_px, center_y_px = 2736, 1824 #Specify according to your image set\n",
    "\n",
    "# Calculate the center point in meters\n",
    "center_x_m = center_x_px * resolution_m_px\n",
    "center_y_m = center_y_px * resolution_m_px\n",
    "\n",
    "# Function to calculate distance from center\n",
    "def calculate_distance_from_center(row):\n",
    "    # Get the coordinates of the bounding box (x, y, width, height)\n",
    "    x, y, width, height = row['bbox']\n",
    "\n",
    "    # Calculate the center point of the bounding box in pixels\n",
    "    bbox_center_x_px = x + (width / 2)\n",
    "    bbox_center_y_px = y + (height / 2)\n",
    "\n",
    "    # Calculate the center point of the bounding box in meters\n",
    "    bbox_center_x_m = bbox_center_x_px * resolution_m_px\n",
    "    bbox_center_y_m = bbox_center_y_px * resolution_m_px\n",
    "\n",
    "    # Calculate the distance from the center of the image in meters\n",
    "    distance_m = ((center_x_m - bbox_center_x_m)**2 + (center_y_m - bbox_center_y_m)**2)**0.5\n",
    "\n",
    "    return distance_m\n",
    "\n",
    "# Apply the function to calculate distance to each row in the DataFrame\n",
    "df['distance_to_center_m'] = df.apply(calculate_distance_from_center, axis=1)\n",
    "\n",
    "df.head()"
   ]
  },
  {
   "cell_type": "code",
   "execution_count": null,
   "metadata": {},
   "outputs": [],
   "source": [
    "#Export as CSV\n",
    "savepath = \"\" #Desired output directory\n",
    "df.to_csv(savepath+\"distance_anns.csv\") #desired filename"
   ]
  }
 ],
 "metadata": {
  "kernelspec": {
   "display_name": "yolo",
   "language": "python",
   "name": "python3"
  },
  "language_info": {
   "codemirror_mode": {
    "name": "ipython",
    "version": 3
   },
   "file_extension": ".py",
   "mimetype": "text/x-python",
   "name": "python",
   "nbconvert_exporter": "python",
   "pygments_lexer": "ipython3",
   "version": "3.10.9"
  },
  "orig_nbformat": 4
 },
 "nbformat": 4,
 "nbformat_minor": 2
}
