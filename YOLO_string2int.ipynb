{
 "cells": [
  {
   "cell_type": "code",
   "execution_count": 1,
   "metadata": {},
   "outputs": [],
   "source": [
    "import os\n",
    "\n",
    "# Define the mapping of class names to numeric labels\n",
    "class_mapping = {\n",
    "    'Bird': 0,\n",
    "    'Crane': 0,\n",
    "    'Duck': 1,\n",
    "    'Goose': 2,\n",
    "    'Seagull': 3\n",
    "}\n",
    "\n",
    "# Path to the YOLO training labels directory\n",
    "labels_directory = 'D:\\\\YOLOv5Rowan\\\\data\\\\labels\\\\'\n",
    "\n",
    "# Iterate over the labels subdirectories\n",
    "for root, dirs, files in os.walk(labels_directory):\n",
    "    for file in files:\n",
    "        if file.endswith('.txt'):\n",
    "            file_path = os.path.join(root, file)\n",
    "            with open(file_path, 'r') as f:\n",
    "                lines = f.readlines()\n",
    "\n",
    "            # Re-code the class labels\n",
    "            new_lines = []\n",
    "            for line in lines:\n",
    "                class_name, *rest = line.strip().split(' ')\n",
    "                if class_name in class_mapping:\n",
    "                    class_label = class_mapping[class_name]\n",
    "                    new_line = f\"{class_label} {' '.join(rest)}\\n\"\n",
    "                    new_lines.append(new_line)\n",
    "\n",
    "            # Write the re-coded labels back to the file\n",
    "            with open(file_path, 'w') as f:\n",
    "                f.writelines(new_lines)\n"
   ]
  }
 ],
 "metadata": {
  "kernelspec": {
   "display_name": "base",
   "language": "python",
   "name": "python3"
  },
  "language_info": {
   "codemirror_mode": {
    "name": "ipython",
    "version": 3
   },
   "file_extension": ".py",
   "mimetype": "text/x-python",
   "name": "python",
   "nbconvert_exporter": "python",
   "pygments_lexer": "ipython3",
   "version": "3.7.6"
  },
  "orig_nbformat": 4
 },
 "nbformat": 4,
 "nbformat_minor": 2
}
