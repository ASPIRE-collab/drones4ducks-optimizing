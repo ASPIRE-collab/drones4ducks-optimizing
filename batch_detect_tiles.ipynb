{
 "cells": [
  {
   "cell_type": "markdown",
   "metadata": {},
   "source": [
    "Batch detection using SAHI tools for tiled predictions but full image outputs; yield COCO format annotations\n",
    "A little hacked together? Yes, but it works!\n",
    "Reference: https://colab.research.google.com/github/obss/sahi/blob/main/demo/inference_for_yolov5.ipynb?v=1#scrollTo=yXyP3T0wyGtF"
   ]
  },
  {
   "cell_type": "code",
   "execution_count": null,
   "metadata": {},
   "outputs": [],
   "source": [
    "import os\n",
    "from sahi.utils.yolov5 import download_yolov5s6_model\n",
    "from sahi import AutoDetectionModel\n",
    "from sahi.utils.cv import read_image\n",
    "from sahi.utils.file import download_from_url\n",
    "from sahi.predict import get_prediction, get_sliced_prediction, predict\n",
    "from IPython.display import Image\n",
    "import pandas as pd\n",
    "\n",
    "def process_images_in_directory(image_directory, save_directory):\n",
    "    os.makedirs(save_directory, exist_ok=True)\n",
    "    yolov5_model_path = 'models\\\\best.pt' #specify full model path\n",
    "    download_yolov5s6_model(destination_path=yolov5_model_path)\n",
    "\n",
    "    detection_model = AutoDetectionModel.from_pretrained(\n",
    "        model_type='yolov5', #can accommodate other architectures\n",
    "        model_path=yolov5_model_path,\n",
    "        confidence_threshold=0.3, #specify confidence threshold as desired\n",
    "        device=\"cuda:0\" #to use GPU\n",
    "    )\n",
    "\n",
    "    all_anns = []\n",
    "\n",
    "    for img_filename in os.listdir(image_directory):\n",
    "        if img_filename.lower().endswith(('.jpg', '.jpeg', '.png', '.bmp')):\n",
    "            img_path = os.path.join(image_directory, img_filename)\n",
    "\n",
    "            result = get_sliced_prediction(\n",
    "                img_path,\n",
    "                detection_model,\n",
    "                slice_height=456, #Can adjust tile size \n",
    "                slice_width=781,\n",
    "                overlap_height_ratio=0.1, #Can adjust tile overlap\n",
    "                overlap_width_ratio=0.1\n",
    "            )\n",
    "\n",
    "            coco = result.to_coco_annotations()\n",
    "            for annotation in coco:\n",
    "                annotation['image_id'] = img_filename\n",
    "\n",
    "            all_anns.extend(coco)\n",
    "\n",
    "        df = pd.DataFrame(all_anns)\n",
    "        savepath = os.path.join(save_directory, \"coco_detections.csv\") #change name if desired\n",
    "        df.to_csv(savepath, index=False)\n",
    "\n",
    "image_directory = \"\"  # Replace with the path to the directory containing images\n",
    "save_directory = \"\"  # Replace with the desired output directory for the COCO annotations\n",
    "process_images_in_directory(image_directory, save_directory)"
   ]
  }
 ],
 "metadata": {
  "kernelspec": {
   "display_name": "yolo",
   "language": "python",
   "name": "python3"
  },
  "language_info": {
   "codemirror_mode": {
    "name": "ipython",
    "version": 3
   },
   "file_extension": ".py",
   "mimetype": "text/x-python",
   "name": "python",
   "nbconvert_exporter": "python",
   "pygments_lexer": "ipython3",
   "version": "3.10.9"
  },
  "orig_nbformat": 4
 },
 "nbformat": 4,
 "nbformat_minor": 2
}
